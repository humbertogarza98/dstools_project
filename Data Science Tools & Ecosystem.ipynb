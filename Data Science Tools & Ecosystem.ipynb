{
 "cells": [
  {
   "cell_type": "markdown",
   "id": "523d2451-433b-46ec-96b9-cf2934ab9781",
   "metadata": {},
   "source": [
    "#Data Science Tools & Ecosystem"
   ]
  },
  {
   "cell_type": "markdown",
   "id": "83cdbf8f-7b1f-4e78-abe3-44d29c5372cf",
   "metadata": {},
   "source": [
    "###Introduction to this notebook: In this notebook we will revien some jupyter notebook basic applied exercises.\n",
    "\n",
    "**Objectives**:\n",
    "- Create a Jupyter Notebook.\n",
    "- Enlist commonly used languages in data science.\n",
    "- Enlist commonly used libraries in sata science.\n",
    "- Apply arithmetic operations using Python language\n",
    "- Share notebook on GitHub"
   ]
  },
  {
   "cell_type": "markdown",
   "id": "c40e968a-b6af-4acc-bcd8-2fd7c02a63bb",
   "metadata": {},
   "source": [
    "Some of the comnmnly used languages in data science are:\n",
    "- Python\n",
    "- R\n",
    "- Julia\n"
   ]
  },
  {
   "cell_type": "markdown",
   "id": "31f3035b-04d8-4564-bf6f-b4536371b85c",
   "metadata": {},
   "source": [
    "Some of the commonly used libraries in data science are:\n",
    "- Pandas\n",
    "- NumPy\n",
    "- Matplotlib\n"
   ]
  },
  {
   "cell_type": "markdown",
   "id": "992bd3c7-cf85-46f7-bfd7-2368ab0c5806",
   "metadata": {},
   "source": [
    "|Data Science Tools|\n",
    "|:----------------:|\n",
    "|Appache Spark|\n",
    "|Tensor Flow|\n",
    "|Pandas|"
   ]
  },
  {
   "cell_type": "markdown",
   "id": "da10ff27-763f-47ae-9a76-09aedca35dca",
   "metadata": {},
   "source": [
    "###Below are examples of evaluating some arithmetic expressions in Python\n"
   ]
  },
  {
   "cell_type": "code",
   "execution_count": 26,
   "id": "ae10ea1b-1630-4062-b99b-8d532154d063",
   "metadata": {},
   "outputs": [
    {
     "name": "stdout",
     "output_type": "stream",
     "text": [
      "17\n"
     ]
    }
   ],
   "source": [
    "a=3\n",
    "b=4\n",
    "c=5\n",
    "z=(a*b)+c\n",
    "print(z)\n"
   ]
  },
  {
   "cell_type": "markdown",
   "id": "9ae97835-43c8-4261-8037-34e44c29b6a8",
   "metadata": {},
   "source": [
    "###This operation will convert 200 min into hours.\n"
   ]
  },
  {
   "cell_type": "code",
   "execution_count": 18,
   "id": "bf17d4af-ccc7-411b-abb4-27b5f2336e1d",
   "metadata": {},
   "outputs": [
    {
     "name": "stdout",
     "output_type": "stream",
     "text": [
      "3.3333333333333335\n"
     ]
    }
   ],
   "source": [
    "m=200\n",
    "h=60\n",
    "hrs=200/60\n",
    "print(hrs)\n"
   ]
  },
  {
   "cell_type": "markdown",
   "id": "43262a89-a13f-4530-a765-491f0d2841b3",
   "metadata": {},
   "source": [
    "##Author\n",
    "Humberto Garza\n"
   ]
  },
  {
   "cell_type": "code",
   "execution_count": null,
   "id": "24a92e8a-6c1d-45a9-80b3-45e4b9b4700e",
   "metadata": {},
   "outputs": [],
   "source": []
  }
 ],
 "metadata": {
  "kernelspec": {
   "display_name": "Python 3 (ipykernel)",
   "language": "python",
   "name": "python3"
  },
  "language_info": {
   "codemirror_mode": {
    "name": "ipython",
    "version": 3
   },
   "file_extension": ".py",
   "mimetype": "text/x-python",
   "name": "python",
   "nbconvert_exporter": "python",
   "pygments_lexer": "ipython3",
   "version": "3.12.4"
  }
 },
 "nbformat": 4,
 "nbformat_minor": 5
}
